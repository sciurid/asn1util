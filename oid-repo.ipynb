{
 "cells": [
  {
   "cell_type": "code",
   "execution_count": 18,
   "id": "36383bf7-b219-41db-8545-3ad3b69d393e",
   "metadata": {},
   "outputs": [
    {
     "name": "stdout",
     "output_type": "stream",
     "text": [
      "N/A\n"
     ]
    }
   ],
   "source": [
    "from bs4 import BeautifulSoup\n",
    "import requests\n",
    "\n",
    "\n",
    "\n",
    "resp = requests.get(r\"http://oid-info.com/get/1.2.3.4.5.6.1.2\")\n",
    "bs = BeautifulSoup(resp.text, 'lxml')\n",
    "if(len(bs.select('tr[bgcolor=\"#CCCCCC\"]'))) != 0:\n",
    "    notion = bs.select('tr[bgcolor=\"#CCCCCC\"]')[0].select('textarea')[0].text\n",
    "    description = bs.select('tr[bgcolor=\"#CCCCCC\"]')[1].select('table td')[2].text.strip()\n",
    "else:\n",
    "    print(\"N/A\")"
   ]
  },
  {
   "cell_type": "code",
   "execution_count": 2,
   "id": "2d7416e2-c9e2-48c0-a9c2-83e48d7cbfc7",
   "metadata": {},
   "outputs": [
    {
     "name": "stdout",
     "output_type": "stream",
     "text": [
      "32 65\n",
      "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\n"
     ]
    },
    {
     "ename": "AttributeError",
     "evalue": "'str' object has no attribute 'hex'",
     "output_type": "error",
     "traceback": [
      "\u001b[1;31m---------------------------------------------------------------------------\u001b[0m",
      "\u001b[1;31mAttributeError\u001b[0m                            Traceback (most recent call last)",
      "\u001b[1;32m~\\AppData\\Local\\Temp/ipykernel_7704/3629178819.py\u001b[0m in \u001b[0;36m<module>\u001b[1;34m\u001b[0m\n\u001b[0;32m     13\u001b[0m \u001b[0mprint\u001b[0m\u001b[1;33m(\u001b[0m\u001b[0msm2_crypt\u001b[0m\u001b[1;33m.\u001b[0m\u001b[0mdecrypt\u001b[0m\u001b[1;33m(\u001b[0m\u001b[0mbytes\u001b[0m\u001b[1;33m.\u001b[0m\u001b[0mfromhex\u001b[0m\u001b[1;33m(\u001b[0m\u001b[0msecret\u001b[0m\u001b[1;33m)\u001b[0m\u001b[1;33m)\u001b[0m\u001b[1;33m.\u001b[0m\u001b[0mhex\u001b[0m\u001b[1;33m(\u001b[0m\u001b[1;33m)\u001b[0m\u001b[1;33m)\u001b[0m\u001b[1;33m\u001b[0m\u001b[1;33m\u001b[0m\u001b[0m\n\u001b[0;32m     14\u001b[0m \u001b[1;33m\u001b[0m\u001b[0m\n\u001b[1;32m---> 15\u001b[1;33m \u001b[0mprint\u001b[0m\u001b[1;33m(\u001b[0m\u001b[0msm2_crypt\u001b[0m\u001b[1;33m.\u001b[0m\u001b[0msign\u001b[0m\u001b[1;33m(\u001b[0m\u001b[0mplain\u001b[0m\u001b[1;33m,\u001b[0m \u001b[1;34m''\u001b[0m\u001b[1;33m)\u001b[0m\u001b[1;33m.\u001b[0m\u001b[0mhex\u001b[0m\u001b[1;33m(\u001b[0m\u001b[1;33m)\u001b[0m\u001b[1;33m)\u001b[0m\u001b[1;33m\u001b[0m\u001b[1;33m\u001b[0m\u001b[0m\n\u001b[0m\u001b[0;32m     16\u001b[0m \u001b[1;33m\u001b[0m\u001b[0m\n\u001b[0;32m     17\u001b[0m \u001b[0msm2_crypt\u001b[0m\u001b[1;33m.\u001b[0m\u001b[0mverify\u001b[0m\u001b[1;33m(\u001b[0m\u001b[0msign\u001b[0m\u001b[1;33m,\u001b[0m \u001b[0mbytes\u001b[0m\u001b[1;33m.\u001b[0m\u001b[0mfromhex\u001b[0m\u001b[1;33m(\u001b[0m\u001b[0mplain\u001b[0m\u001b[1;33m)\u001b[0m\u001b[1;33m)\u001b[0m\u001b[1;33m\u001b[0m\u001b[1;33m\u001b[0m\u001b[0m\n",
      "\u001b[1;32mC:\\Python38\\lib\\site-packages\\gmssl\\sm2.py\u001b[0m in \u001b[0;36msign\u001b[1;34m(self, data, K)\u001b[0m\n\u001b[0;32m    167\u001b[0m \u001b[1;33m\u001b[0m\u001b[0m\n\u001b[0;32m    168\u001b[0m     \u001b[1;32mdef\u001b[0m \u001b[0msign\u001b[0m\u001b[1;33m(\u001b[0m\u001b[0mself\u001b[0m\u001b[1;33m,\u001b[0m \u001b[0mdata\u001b[0m\u001b[1;33m,\u001b[0m \u001b[0mK\u001b[0m\u001b[1;33m)\u001b[0m\u001b[1;33m:\u001b[0m  \u001b[1;31m# 签名函数, data消息的hash，private_key私钥，K随机数，均为16进制字符串\u001b[0m\u001b[1;33m\u001b[0m\u001b[1;33m\u001b[0m\u001b[0m\n\u001b[1;32m--> 169\u001b[1;33m         \u001b[0mE\u001b[0m \u001b[1;33m=\u001b[0m \u001b[0mdata\u001b[0m\u001b[1;33m.\u001b[0m\u001b[0mhex\u001b[0m\u001b[1;33m(\u001b[0m\u001b[1;33m)\u001b[0m \u001b[1;31m# 消息转化为16进制字符串\u001b[0m\u001b[1;33m\u001b[0m\u001b[1;33m\u001b[0m\u001b[0m\n\u001b[0m\u001b[0;32m    170\u001b[0m         \u001b[0me\u001b[0m \u001b[1;33m=\u001b[0m \u001b[0mint\u001b[0m\u001b[1;33m(\u001b[0m\u001b[0mE\u001b[0m\u001b[1;33m,\u001b[0m \u001b[1;36m16\u001b[0m\u001b[1;33m)\u001b[0m\u001b[1;33m\u001b[0m\u001b[1;33m\u001b[0m\u001b[0m\n\u001b[0;32m    171\u001b[0m \u001b[1;33m\u001b[0m\u001b[0m\n",
      "\u001b[1;31mAttributeError\u001b[0m: 'str' object has no attribute 'hex'"
     ]
    }
   ],
   "source": [
    "plain = 'e599abe59081e59ab1efbc81e58db1e4b98ee9ab98e59389efbc81e89c80e98193e4b98be99abeefbc8ce99abee4ba8ee4b88ae99d92e5a4a9e380820ae89a95e4b89be58f8ae9b1bce587abefbc8ce5bc80e59bbde4bd95e88cabe784b6efbc81e5b094e69da5e59b9be4b887e585abe58d83e5b281efbc8ce4b88de4b88ee7a7a6e5a19ee9809ae4babae7839fe380820ae8a5bfe5bd93e5a4aae799bde69c89e9b89fe98193efbc8ce58fafe4bba5e6a8aae7bb9de5b3a8e79c89e5b785e38082e59cb0e5b4a9e5b1b1e691a7e5a3aee5a3abe6adbbefbc8ce784b6e5908ee5a4a9e6a2afe79fb3e6a088e79bb8e992a9e8bf9ee380820ae4b88ae69c89e585ade9be99e59b9ee697a5e4b98be9ab98e6a087efbc8ce4b88be69c89e586b2e6b3a2e98086e68a98e4b98be59b9ee5b79de38082e9bb84e9b9a4e4b98be9a39ee5b09ae4b88de5be97e8bf87efbc8ce78cbfe78cb1e6acb2e5baa6e68481e69480e68fb4e38082e99d92e6b3a5e4bd95e79b98e79b98efbc810ae799bee6ada5e4b99de68a98e890a6e5b2a9e5b3a6e38082e689aae58f82e58e86e4ba95e4bbb0e88381e681afefbc8ce4bba5e6898be68a9ae886bae59d90e995bfe58fb9e380820ae997aee5909be8a5bfe6b8b8e4bd95e697b6e8bf98efbc8ce7958fe98094e5b789e5b2a9e4b88de58fafe69480e38082e4bd86e8a781e682b2e9b89fe58fb7e58fa4e69ca8efbc8ce99b84e9a39ee99b8ce4bb8ee7bb95e69e97e997b4e380820ae58f88e997bbe5ad90e8a784e595bce5a49ce69c88efbc8ce68481e7a9bae5b1b1e380820ae89c80e98193e4b98be99abeefbc8ce99abee4ba8ee4b88ae99d92e5a4a9efbc81e4bdbfe4babae590ace6ada4e5878be69cb1e9a29ce380820ae8bf9ee5b3b0e58ebbe5a4a9e4b88de79b88e5b0baefbc8ce69eafe69dbee58092e68c82e5809ae7bb9de5a381e38082e9a39ee6b98de78091e6b581e4ba89e596a7e8b197efbc8ce7a0afe5b496e8bdace79fb3e4b887e5a391e99bb7e380820ae585b6e999a9e4b99fe5a682e6ada4efbc8ce5979fe5b094e8bf9ce98193e4b98be4babae883a1e4b8bae4b98ee69da5e59389efbc9f0ae58991e99881e5b3a5e5b598e8808ce5b494e5b5acefbc8ce4b880e5a4abe5bd93e585b3efbc8ce4b887e5a4abe88eabe5bc80e38082e68980e5ae88e68896e58caae4bab2efbc8ce58c96e4b8bae78bbce4b88ee8b1bae380820ae69c9de981bfe78c9be8998eefbc8ce5a495e981bfe995bfe89b87e38082e7a3a8e78999e590aee8a180efbc8ce69d80e4babae5a682e9babbe380820ae994a6e59f8ee899bde4ba91e4b990efbc8ce4b88de5a682e697a9e8bf98e5aeb6e380820ae89c80e98193e4b98be99abeefbc8ce99abee4ba8ee4b88ae99d92e5a4a9efbc8ce4bea7e8baabe8a5bfe69c9be995bfe592a8e5979fe380820a'\n",
    "secret = '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'\n",
    "sign = ''\n",
    "private_key = '5e76185d847cc64da483cbf60b1b55f977fa3ebe22a2bb39881f1ae1fb1ba108'\n",
    "public_key = '04affc8641d81fa6c82db7e38376792ff48010191d4c0bd16284232af1e5f80ee414d6ad856bee4664606b272bdd643b19ce215d243ee9194ce0451b2c870a05f4'\n",
    "\n",
    "print(len(private_key)// 2, len(public_key) // 2)\n",
    "\n",
    "from gmssl import sm2\n",
    "\n",
    "sm2_crypt = sm2.CryptSM2(public_key=public_key, private_key=private_key)\n",
    "\n",
    "print(sm2_crypt.decrypt(bytes.fromhex(secret)).hex())\n",
    "\n",
    "print(sm2_crypt.sign(plain, b'').hex())\n",
    "\n",
    "sm2_crypt.verify(sign, bytes.fromhex(plain))\n"
   ]
  },
  {
   "cell_type": "code",
   "execution_count": 1,
   "id": "aae239bf-cbe9-4fba-855a-3e37509c4d6c",
   "metadata": {},
   "outputs": [
    {
     "name": "stdout",
     "output_type": "stream",
     "text": [
      "0       1       2       Sequence (0x30:UC16)                    69    \n",
      "2       3       4         Integer (0x02:UP02)                   33    102167478301812726053616558152547467416616753687955883560267751152909910931048\n",
      "37      38      39        Integer (0x02:UP02)                   32    19728224865701301369831948038155161427613245039971728402807959523387428060044\n"
     ]
    }
   ],
   "source": [
    "from asn1util import *\n",
    "from io import *\n",
    "\n",
    "decode_print(BytesIO(bytes.fromhex('3045022100e1e0be552c4e98c539952035aadb59fb5a62ebb4f438eb7758fbe5319d89f66802202b9dc79223d986e5f71a0b1876cee638f7745c5f105f29fe86cdb153b8d03b8c')))"
   ]
  },
  {
   "cell_type": "code",
   "execution_count": null,
   "id": "e9ef250d-329b-4900-8a5a-5e19cd1a8cfd",
   "metadata": {},
   "outputs": [],
   "source": []
  }
 ],
 "metadata": {
  "kernelspec": {
   "display_name": "Python 3 (ipykernel)",
   "language": "python",
   "name": "python3"
  },
  "language_info": {
   "codemirror_mode": {
    "name": "ipython",
    "version": 3
   },
   "file_extension": ".py",
   "mimetype": "text/x-python",
   "name": "python",
   "nbconvert_exporter": "python",
   "pygments_lexer": "ipython3",
   "version": "3.8.3"
  }
 },
 "nbformat": 4,
 "nbformat_minor": 5
}
